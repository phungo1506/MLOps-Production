{
  "nbformat": 4,
  "nbformat_minor": 0,
  "metadata": {
    "colab": {
      "provenance": []
    },
    "kernelspec": {
      "name": "python3",
      "display_name": "Python 3"
    },
    "language_info": {
      "name": "python"
    }
  },
  "cells": [
    {
      "cell_type": "code",
      "source": [
        "from google.colab import drive\n",
        "drive.mount('/content/drive')"
      ],
      "metadata": {
        "colab": {
          "base_uri": "https://localhost:8080/"
        },
        "id": "bI6MV8GpCy-N",
        "outputId": "1bbffcbb-a76c-4126-c839-4d5699421b94"
      },
      "execution_count": 2,
      "outputs": [
        {
          "output_type": "stream",
          "name": "stdout",
          "text": [
            "Mounted at /content/drive\n"
          ]
        }
      ]
    },
    {
      "cell_type": "code",
      "execution_count": 1,
      "metadata": {
        "colab": {
          "base_uri": "https://localhost:8080/"
        },
        "id": "jPhj3AGqL_Kg",
        "outputId": "d3212d85-e60f-4e11-cf76-314643deb213"
      },
      "outputs": [
        {
          "output_type": "stream",
          "name": "stdout",
          "text": [
            "Collecting tritonclient[all]\n",
            "  Downloading tritonclient-2.46.0-py3-none-manylinux1_x86_64.whl (12.6 MB)\n",
            "\u001b[2K     \u001b[90m━━━━━━━━━━━━━━━━━━━━━━━━━━━━━━━━━━━━━━━━\u001b[0m \u001b[32m12.6/12.6 MB\u001b[0m \u001b[31m17.8 MB/s\u001b[0m eta \u001b[36m0:00:00\u001b[0m\n",
            "\u001b[?25hRequirement already satisfied: numpy>=1.19.1 in /usr/local/lib/python3.10/dist-packages (from tritonclient[all]) (1.25.2)\n",
            "Collecting python-rapidjson>=0.9.1 (from tritonclient[all])\n",
            "  Downloading python_rapidjson-1.17-cp310-cp310-manylinux_2_17_x86_64.manylinux2014_x86_64.whl (1.7 MB)\n",
            "\u001b[2K     \u001b[90m━━━━━━━━━━━━━━━━━━━━━━━━━━━━━━━━━━━━━━━━\u001b[0m \u001b[32m1.7/1.7 MB\u001b[0m \u001b[31m13.7 MB/s\u001b[0m eta \u001b[36m0:00:00\u001b[0m\n",
            "\u001b[?25hRequirement already satisfied: urllib3>=2.0.7 in /usr/local/lib/python3.10/dist-packages (from tritonclient[all]) (2.0.7)\n",
            "Requirement already satisfied: grpcio>=1.41.0 in /usr/local/lib/python3.10/dist-packages (from tritonclient[all]) (1.64.1)\n",
            "Requirement already satisfied: packaging>=14.1 in /usr/local/lib/python3.10/dist-packages (from tritonclient[all]) (24.1)\n",
            "Requirement already satisfied: protobuf<5,>=3.5.0 in /usr/local/lib/python3.10/dist-packages (from tritonclient[all]) (3.20.3)\n",
            "Requirement already satisfied: aiohttp<4.0.0,>=3.8.1 in /usr/local/lib/python3.10/dist-packages (from tritonclient[all]) (3.9.5)\n",
            "Collecting geventhttpclient<=2.0.2,>=1.4.4 (from tritonclient[all])\n",
            "  Downloading geventhttpclient-2.0.2-cp310-cp310-manylinux_2_5_x86_64.manylinux1_x86_64.manylinux_2_17_x86_64.manylinux2014_x86_64.whl (100 kB)\n",
            "\u001b[2K     \u001b[90m━━━━━━━━━━━━━━━━━━━━━━━━━━━━━━━━━━━━━━━━\u001b[0m \u001b[32m100.3/100.3 kB\u001b[0m \u001b[31m2.0 MB/s\u001b[0m eta \u001b[36m0:00:00\u001b[0m\n",
            "\u001b[?25hRequirement already satisfied: cuda-python in /usr/local/lib/python3.10/dist-packages (from tritonclient[all]) (12.2.1)\n",
            "Requirement already satisfied: aiosignal>=1.1.2 in /usr/local/lib/python3.10/dist-packages (from aiohttp<4.0.0,>=3.8.1->tritonclient[all]) (1.3.1)\n",
            "Requirement already satisfied: attrs>=17.3.0 in /usr/local/lib/python3.10/dist-packages (from aiohttp<4.0.0,>=3.8.1->tritonclient[all]) (23.2.0)\n",
            "Requirement already satisfied: frozenlist>=1.1.1 in /usr/local/lib/python3.10/dist-packages (from aiohttp<4.0.0,>=3.8.1->tritonclient[all]) (1.4.1)\n",
            "Requirement already satisfied: multidict<7.0,>=4.5 in /usr/local/lib/python3.10/dist-packages (from aiohttp<4.0.0,>=3.8.1->tritonclient[all]) (6.0.5)\n",
            "Requirement already satisfied: yarl<2.0,>=1.0 in /usr/local/lib/python3.10/dist-packages (from aiohttp<4.0.0,>=3.8.1->tritonclient[all]) (1.9.4)\n",
            "Requirement already satisfied: async-timeout<5.0,>=4.0 in /usr/local/lib/python3.10/dist-packages (from aiohttp<4.0.0,>=3.8.1->tritonclient[all]) (4.0.3)\n",
            "Collecting gevent>=0.13 (from geventhttpclient<=2.0.2,>=1.4.4->tritonclient[all])\n",
            "  Downloading gevent-24.2.1-cp310-cp310-manylinux_2_28_x86_64.whl (6.5 MB)\n",
            "\u001b[2K     \u001b[90m━━━━━━━━━━━━━━━━━━━━━━━━━━━━━━━━━━━━━━━━\u001b[0m \u001b[32m6.5/6.5 MB\u001b[0m \u001b[31m20.1 MB/s\u001b[0m eta \u001b[36m0:00:00\u001b[0m\n",
            "\u001b[?25hRequirement already satisfied: certifi in /usr/local/lib/python3.10/dist-packages (from geventhttpclient<=2.0.2,>=1.4.4->tritonclient[all]) (2024.6.2)\n",
            "Requirement already satisfied: six in /usr/local/lib/python3.10/dist-packages (from geventhttpclient<=2.0.2,>=1.4.4->tritonclient[all]) (1.16.0)\n",
            "Collecting brotli (from geventhttpclient<=2.0.2,>=1.4.4->tritonclient[all])\n",
            "  Downloading Brotli-1.1.0-cp310-cp310-manylinux_2_5_x86_64.manylinux1_x86_64.manylinux_2_12_x86_64.manylinux2010_x86_64.whl (3.0 MB)\n",
            "\u001b[2K     \u001b[90m━━━━━━━━━━━━━━━━━━━━━━━━━━━━━━━━━━━━━━━━\u001b[0m \u001b[32m3.0/3.0 MB\u001b[0m \u001b[31m23.5 MB/s\u001b[0m eta \u001b[36m0:00:00\u001b[0m\n",
            "\u001b[?25hRequirement already satisfied: cython in /usr/local/lib/python3.10/dist-packages (from cuda-python->tritonclient[all]) (3.0.10)\n",
            "Collecting zope.event (from gevent>=0.13->geventhttpclient<=2.0.2,>=1.4.4->tritonclient[all])\n",
            "  Downloading zope.event-5.0-py3-none-any.whl (6.8 kB)\n",
            "Collecting zope.interface (from gevent>=0.13->geventhttpclient<=2.0.2,>=1.4.4->tritonclient[all])\n",
            "  Downloading zope.interface-6.4.post2-cp310-cp310-manylinux_2_5_x86_64.manylinux1_x86_64.manylinux_2_17_x86_64.manylinux2014_x86_64.whl (247 kB)\n",
            "\u001b[2K     \u001b[90m━━━━━━━━━━━━━━━━━━━━━━━━━━━━━━━━━━━━━━━━\u001b[0m \u001b[32m247.8/247.8 kB\u001b[0m \u001b[31m5.5 MB/s\u001b[0m eta \u001b[36m0:00:00\u001b[0m\n",
            "\u001b[?25hRequirement already satisfied: greenlet>=2.0.0 in /usr/local/lib/python3.10/dist-packages (from gevent>=0.13->geventhttpclient<=2.0.2,>=1.4.4->tritonclient[all]) (3.0.3)\n",
            "Requirement already satisfied: idna>=2.0 in /usr/local/lib/python3.10/dist-packages (from yarl<2.0,>=1.0->aiohttp<4.0.0,>=3.8.1->tritonclient[all]) (3.7)\n",
            "Requirement already satisfied: setuptools in /usr/local/lib/python3.10/dist-packages (from zope.event->gevent>=0.13->geventhttpclient<=2.0.2,>=1.4.4->tritonclient[all]) (67.7.2)\n",
            "Installing collected packages: brotli, zope.interface, zope.event, python-rapidjson, tritonclient, gevent, geventhttpclient\n",
            "Successfully installed brotli-1.1.0 gevent-24.2.1 geventhttpclient-2.0.2 python-rapidjson-1.17 tritonclient-2.46.0 zope.event-5.0 zope.interface-6.4.post2\n"
          ]
        }
      ],
      "source": [
        "!pip install tritonclient\\[all\\]"
      ]
    },
    {
      "cell_type": "code",
      "source": [
        "import numpy as np\n",
        "import tritonclient.http as httpclient\n",
        "from PIL import Image\n",
        "from tritonclient.utils import triton_to_np_dtype"
      ],
      "metadata": {
        "id": "aOq36Rp9Mbeb"
      },
      "execution_count": 3,
      "outputs": []
    },
    {
      "cell_type": "code",
      "source": [
        "from PIL import Image\n",
        "from torchvision import transforms\n",
        "\n",
        "def mobi_preprocess(img_path=\"img1.jpg\"):\n",
        "    # Open the image using PIL\n",
        "    img = Image.open(img_path)\n",
        "\n",
        "    # Define the preprocessing steps\n",
        "    preprocess = transforms.Compose([\n",
        "        transforms.Resize((224, 224)),  # Resize to 224x224\n",
        "        transforms.ToTensor(),  # Convert to tensor\n",
        "        transforms.Normalize(\n",
        "            mean=[0.46295794, 0.46194877, 0.4847407],\n",
        "            std=[0.19444681, 0.19439201, 0.19383532]\n",
        "        ),  # Normalize\n",
        "    ])\n",
        "\n",
        "    # Apply the preprocessing steps to the image and convert to numpy array\n",
        "    img_tensor = preprocess(img)\n",
        "    img_numpy = img_tensor.numpy()\n",
        "\n",
        "    return img_numpy\n"
      ],
      "metadata": {
        "id": "1DRNipMxNBQ2"
      },
      "execution_count": 24,
      "outputs": []
    },
    {
      "cell_type": "code",
      "source": [
        "def softmax(logits):\n",
        "    exp_logits = np.exp(logits - np.max(logits))  # Subtract max for numerical stability\n",
        "    return exp_logits / np.sum(exp_logits)\n",
        "\n",
        "def process_predictions(predictions):\n",
        "    results = []\n",
        "    for pred in predictions:\n",
        "        score, class_idx, label = pred.decode().split(':')\n",
        "        results.append((float(score), int(class_idx), label))\n",
        "\n",
        "    # Convert list of scores to an array for softmax calculation\n",
        "    scores = np.array([result[0] for result in results])\n",
        "    probabilities = softmax(scores)\n",
        "\n",
        "    # Associate probabilities with corresponding class labels and indices\n",
        "    for i, result in enumerate(results):\n",
        "        results[i] = (probabilities[i], result[1], result[2])\n",
        "\n",
        "    # Sort by probabilities in descending order\n",
        "    results.sort(key=lambda x: x[0], reverse=True)\n",
        "\n",
        "    return results\n",
        "\n"
      ],
      "metadata": {
        "id": "XzyDu_Y7GWg0"
      },
      "execution_count": 25,
      "outputs": []
    },
    {
      "cell_type": "markdown",
      "source": [
        "Inference"
      ],
      "metadata": {
        "id": "MwG921dA2vsl"
      }
    },
    {
      "cell_type": "code",
      "source": [
        "transformed_img = mobi_preprocess(\"/content/drive/MyDrive/ML-DL/MLOps-Production/test_2294_10/car/car_0000.jpg\")\n",
        "\n",
        "# Setting up client\n",
        "client = httpclient.InferenceServerClient(url=\"35.240.142.147:8000\")\n",
        "\n",
        "inputs = httpclient.InferInput(\"input\", transformed_img.shape, datatype=\"FP32\")\n",
        "inputs.set_data_from_numpy(transformed_img)\n",
        "\n",
        "outputs = httpclient.InferRequestedOutput(\n",
        "    \"output\", binary_data=True, class_count=4\n",
        ")\n",
        "\n",
        "# Querying the server\n",
        "results = client.infer(model_name=\"mobilenet_onnx\", inputs=[inputs], outputs=[outputs])\n",
        "inference_output = results.as_numpy(\"output\")\n",
        "predictions = np.array(inference_output)\n",
        "processed_results = process_predictions(predictions)\n",
        "for probability, class_idx, label in processed_results:\n",
        "    print(f\"Label: {label}, Class Index: {class_idx}, Probability: {probability:.6f}\")"
      ],
      "metadata": {
        "id": "D1c0Z99rNDwG",
        "colab": {
          "base_uri": "https://localhost:8080/"
        },
        "outputId": "d78f405e-9d05-44ff-e0bc-92b1981485e7"
      },
      "execution_count": 26,
      "outputs": [
        {
          "output_type": "stream",
          "name": "stdout",
          "text": [
            "Label: car, Class Index: 1, Probability: 0.997789\n",
            "Label: van, Class Index: 3, Probability: 0.002097\n",
            "Label: truck, Class Index: 2, Probability: 0.000071\n",
            "Label: bus, Class Index: 0, Probability: 0.000043\n"
          ]
        }
      ]
    },
    {
      "cell_type": "code",
      "source": [],
      "metadata": {
        "id": "3yK9CJzx2ysh"
      },
      "execution_count": null,
      "outputs": []
    }
  ]
}